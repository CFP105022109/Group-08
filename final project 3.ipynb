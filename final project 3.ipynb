{
 "cells": [
  {
   "cell_type": "code",
   "execution_count": 11,
   "metadata": {
    "scrolled": false
   },
   "outputs": [
    {
     "data": {
      "image/png": "[encoded data removed]",
      "text/plain": [
       "<Figure size 432x288 with 1 Axes>"
      ]
     },
     "metadata": {
      "needs_background": "light"
     },
     "output_type": "display_data"
    },
    {
     "data": {
      "image/png": "[encoded data removed]",
      "text/plain": [
       "<Figure size 432x288 with 1 Axes>"
      ]
     },
     "metadata": {
      "needs_background": "light"
     },
     "output_type": "display_data"
    },
    {
     "name": "stdout",
     "output_type": "stream",
     "text": [
      "[5.86776783e+00 3.73418098e-04 3.79829664e+01]\n"
     ]
    }
   ],
   "source": [
    "guessa = 0 #a的猜測值\n",
    "guessb = 10**(-3) #b的猜測值\n",
    "guessc = 40 #c得猜測值\n",
    "rangeb = 10 #可接受的b範圍\n",
    "ac = 6 #分割找數據段數\n",
    "\n",
    "#讀數據\n",
    "import numpy as np\n",
    "fp = open('5.txt','r',encoding='UTF-8')\n",
    "a = []\n",
    "for line in fp:\n",
    "    a.append(list(line.strip('\\n').split(',')))\n",
    "b = a[1:]\n",
    "n = 0\n",
    "data= []\n",
    "for x in b:\n",
    "    x = float(b[n][1][5:10])\n",
    "    data.append(x)\n",
    "    n = n+1\n",
    "\n",
    "#畫數據\n",
    "import matplotlib.pyplot as plt\n",
    "import numpy as np\n",
    "l = len(data)\n",
    "x = np.linspace(1,l, l)\n",
    "plt.plot(x, data,'.')\n",
    "plt.show()\n",
    "x=np.linspace(1,l,num=l)\n",
    "np_data = np.array(data)\n",
    "\n",
    "#define fitting fuction\n",
    "from scipy import optimize\n",
    "def func(x, a, b, c):\n",
    "    return a*np.exp(-b*x)+c\n",
    "\n",
    "#切數據\n",
    "b = []\n",
    "for i in range (ac) :\n",
    "    dataa=np_data[int(l/ac*i):int(l/ac*(i+1))]\n",
    "    xa=x[int(l/ac*i):int(l/ac*(i+1))]\n",
    "    popt, pcov = optimize.curve_fit(func, xa, dataa, maxfev=1000000, p0=(guessa, guessb, guessc))\n",
    "    b.append(popt[1])\n",
    "    \n",
    "#把b值好的數據拿出來\n",
    "index = []\n",
    "for i in range (ac):\n",
    "    if((abs(b[i]) < rangeb*guessb)and((abs(b[i])>guessb/rangeb))):\n",
    "        index.append(i)\n",
    "st = int(l/ac*max(0,(min(index)-1)))\n",
    "end = int(l/ac*min(ac,(max(index)+1)))\n",
    "datab = np_data[st:end]\n",
    "xb=np.linspace(1,len(datab),len(datab))\n",
    "\n",
    "#fit較好的數據\n",
    "popt, pcov = optimize.curve_fit(func, xb, datab, maxfev=1000000, p0=(guessa, guessb, guessc))\n",
    "\n",
    "#去頭\n",
    "datac = datab[int(len(datab)*0.01):]\n",
    "xc = np.linspace(1, len(datac), len(datac))\n",
    "popt1, pcov1 = optimize.curve_fit(func, xc, datac, maxfev=1000000, p0=(guessa, guessb, guessc))\n",
    "datad = datac\n",
    "while(pcov1[1,1]<pcov[1,1]):\n",
    "    break\n",
    "    pcov = pcov1\n",
    "    datad = datac\n",
    "    datac = datac[int(len(datac)*0.01):]\n",
    "    xc = np.linspace(1, len(datac), len(datac))\n",
    "    popt1, pcov1 = optimize.curve_fit(func, xc, datac, maxfev=1000000, p0=(guessa, guessb, guessc))\n",
    "\n",
    "#去尾\n",
    "datae = datad[:int(len(datad)*0.99)]\n",
    "xe = np.linspace(1, len(datae), len(datae))\n",
    "popt1, pcov1 = optimize.curve_fit(func, xe, datae, maxfev=1000000, p0=(guessa, guessb, guessc))\n",
    "dataf = datae\n",
    "while(pcov1[1,1]<pcov[1,1]):\n",
    "    break\n",
    "    print(5)\n",
    "    pcov = pcov1\n",
    "    dataf = datae\n",
    "    datae = datae[:int(len(datad)*0.99)]\n",
    "    xe = np.linspace(1, len(datae), len(datae))\n",
    "    popt1, pcov1 = optimize.curve_fit(func, xe, datae, maxfev=1000000, p0=(guessa, guessb, guessc))\n",
    "\n",
    "#plot結果    \n",
    "xf=np.linspace(1,len(dataf),len(dataf))\n",
    "plt.plot(xf, dataf, '.')\n",
    "popt1, pcov1 = optimize.curve_fit(func, xf, dataf, maxfev=1000000, p0=(guessa, guessb, guessc))\n",
    "a=popt1[0]\n",
    "b=popt1[1]\n",
    "c=popt1[2]\n",
    "yvals1 = func(xf,a,b,c)\n",
    "plt.plot(xf, yvals1,'.')\n",
    "plt.show()\n",
    "print(popt)"
   ]
  },
  {
   "cell_type": "code",
   "execution_count": null,
   "metadata": {},
   "outputs": [],
   "source": []
  },
  {
   "cell_type": "code",
   "execution_count": null,
   "metadata": {},
   "outputs": [],
   "source": []
  }
 ],
 "metadata": {
  "kernelspec": {
   "display_name": "Python 3",
   "language": "python",
   "name": "python3"
  },
  "language_info": {
   "codemirror_mode": {
    "name": "ipython",
    "version": 3
   },
   "file_extension": ".py",
   "mimetype": "text/x-python",
   "name": "python",
   "nbconvert_exporter": "python",
   "pygments_lexer": "ipython3",
   "version": "3.7.3"
  }
 },
 "nbformat": 4,
 "nbformat_minor": 2
}
