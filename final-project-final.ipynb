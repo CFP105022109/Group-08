{
 "cells": [
  {
   "cell_type": "code",
   "execution_count": 9,
   "metadata": {
    "scrolled": false
   },
   "outputs": [
    {
     "data": {
      "image/png": "[encoded data removed]",
      "text/plain": [
       "<Figure size 432x288 with 1 Axes>"
      ]
     },
     "metadata": {
      "needs_background": "light"
     },
     "output_type": "display_data"
    },
    {
     "data": {
      "image/png": "[encoded data removed]",
      "text/plain": [
       "<Figure size 432x288 with 1 Axes>"
      ]
     },
     "metadata": {
      "needs_background": "light"
     },
     "output_type": "display_data"
    },
    {
     "name": "stdout",
     "output_type": "stream",
     "text": [
      "0.0034\n"
     ]
    }
   ],
   "source": [
    "ga = 0 #a的猜測值\n",
    "gb = 10**(-3) #b的猜測值\n",
    "gc = 40 #c得猜測值\n",
    "rangeb = 10 #可接受的b範圍\n",
    "cut = 6 #分割找數據段數\n",
    "\n",
    "#讀數據\n",
    "import numpy as np\n",
    "fp = open('1.txt','r',encoding='UTF-8')\n",
    "a = []\n",
    "for line in fp:\n",
    "    a.append(list(line.strip('\\n').split(',')))\n",
    "b = a[1:]\n",
    "n = 0\n",
    "data= []\n",
    "for x in b:\n",
    "    x = float(b[n][1][5:10])\n",
    "    data.append(x)\n",
    "    n = n+1\n",
    "\n",
    "#畫數據\n",
    "import matplotlib.pyplot as plt\n",
    "import numpy as np\n",
    "l = len(data)\n",
    "x = np.linspace(1,l, l)\n",
    "plt.plot(x, data,'.')\n",
    "plt.ylabel(\"Weight(g)\") \n",
    "plt.xlabel(\"time(s)\") \n",
    "plt.show()\n",
    "x=np.linspace(1,l,num=l)\n",
    "np_data = np.array(data)\n",
    "\n",
    "#定義擬合函數\n",
    "from scipy import optimize\n",
    "def func(x, a, b, c):\n",
    "    return a*np.exp(-b*x)+c\n",
    "\n",
    "#切數據\n",
    "b = [] \n",
    "for i in range (cut) :\n",
    "    dataa=np_data[int(l/cut*i):int(l/cut*(i+1))]\n",
    "    xa=x[int(l/cut*i):int(l/cut*(i+1))]\n",
    "    popt, pcov = optimize.curve_fit(func, xa, dataa, maxfev=1000000, p0=(ga, gb, gc))\n",
    "    b.append(popt[1])\n",
    "    \n",
    "#把b值好的數據拿出來\n",
    "index = []\n",
    "for i in range (cut):\n",
    "    if((abs(b[i]) < rangeb*gb)and((abs(b[i])>gb/rangeb))):\n",
    "        index.append(i)\n",
    "st = int(l/cut*max(0,(min(index)-1)))\n",
    "end = int(l/cut*min(cut,(max(index)+1)))\n",
    "datab = np_data[st:end]\n",
    "xb=np.linspace(1,len(datab),len(datab))\n",
    "\n",
    "#fit較好的數據\n",
    "popt, pcov = optimize.curve_fit(func, xb, datab, maxfev=1000000, p0=(ga, gb, gc))\n",
    "\n",
    "#去頭\n",
    "datac = datab[int(len(datab)*0.01):]\n",
    "xc = np.linspace(1, len(datac), len(datac))\n",
    "popt1, pcov1 = optimize.curve_fit(func, xc, datac, maxfev=1000000, p0=(ga, gb, gc))\n",
    "datad = datac\n",
    "while(pcov1[1,1]<pcov[1,1]):\n",
    "    \n",
    "    pcov = pcov1\n",
    "    datad = datac\n",
    "    datac = datac[int(len(datac)*0.01):]\n",
    "    xc = np.linspace(1, len(datac), len(datac))\n",
    "    popt1, pcov1 = optimize.curve_fit(func, xc, datac, maxfev=1000000, p0=(ga, gb, gc))\n",
    "\n",
    "#去尾\n",
    "datae = datad[:int(len(datad)*0.99)]\n",
    "xe = np.linspace(1, len(datae), len(datae))\n",
    "popt1, pcov1 = optimize.curve_fit(func, xe, datae, maxfev=1000000, p0=(ga, gb, gc))\n",
    "dataf = datae\n",
    "while(pcov1[1,1]<pcov[1,1]):\n",
    "    print(5)\n",
    "    pcov = pcov1\n",
    "    dataf = datae\n",
    "    datae = datae[:int(len(datad)*0.99)]\n",
    "    xe = np.linspace(1, len(datae), len(datae))\n",
    "    popt1, pcov1 = optimize.curve_fit(func, xe, datae, maxfev=1000000, p0=(ga, gb, gc))\n",
    "\n",
    "#plot結果    \n",
    "xf=np.linspace(1,len(dataf),len(dataf))\n",
    "plt.plot(xf, dataf, '.')\n",
    "popt1, pcov1 = optimize.curve_fit(func, xf, dataf, maxfev=1000000, p0=(ga, gb, gc))\n",
    "a=round(popt1[0],4)\n",
    "b=round(popt1[1],4)\n",
    "c=round(popt1[2],4)\n",
    "yvals1 = func(xf,a,b,c)\n",
    "plt.plot(xf, yvals1,'.')\n",
    "plt.ylabel(\"Weight(g)\") \n",
    "plt.xlabel(\"time(s)\") \n",
    "plt.show()\n",
    "print(b)"
   ]
  },
  {
   "cell_type": "code",
   "execution_count": null,
   "metadata": {},
   "outputs": [],
   "source": []
  },
  {
   "cell_type": "code",
   "execution_count": null,
   "metadata": {},
   "outputs": [],
   "source": []
  }
 ],
 "metadata": {
  "kernelspec": {
   "display_name": "Python 3",
   "language": "python",
   "name": "python3"
  },
  "language_info": {
   "codemirror_mode": {
    "name": "ipython",
    "version": 3
   },
   "file_extension": ".py",
   "mimetype": "text/x-python",
   "name": "python",
   "nbconvert_exporter": "python",
   "pygments_lexer": "ipython3",
   "version": "3.7.1"
  }
 },
 "nbformat": 4,
 "nbformat_minor": 2
}
