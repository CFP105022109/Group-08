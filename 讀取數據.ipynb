{
 "cells": [
  {
   "cell_type": "code",
   "execution_count": 35,
   "metadata": {},
   "outputs": [
    {
     "name": "stdout",
     "output_type": "stream",
     "text": [
      "[42.32 42.3  42.3  ... 40.52 40.52 40.54]\n"
     ]
    },
    {
     "data": {
      "image/png": "[encoded data removed]",
      "text/plain": [
       "<Figure size 432x288 with 1 Axes>"
      ]
     },
     "metadata": {
      "needs_background": "light"
     },
     "output_type": "display_data"
    }
   ],
   "source": [
    "import re \n",
    "import numpy as np\n",
    "fp = open('4.txt','r',encoding='UTF-8')\n",
    "\n",
    "a = []\n",
    "for line in fp:\n",
    "  a.append(list(line.strip('\\n').split(',')))\n",
    "# print(a)\n",
    "# type(a)\n",
    "b = a[1:]\n",
    "# print(b)\n",
    "n = 0\n",
    "data= []\n",
    "for x in b:\n",
    "    x = float(b[n][1][5:10])\n",
    "    data.append(x)\n",
    "    n = n+1\n",
    "\n",
    "# print(num)\n",
    "\n",
    "Data=np.array(data)\n",
    "print(Data)\n",
    "\n",
    "import numpy as np\n",
    "l = len(data) \n",
    "x = np.linspace(0,l, l)\n",
    "plt.plot(x, data,'.')\n",
    "plt.show()"
   ]
  },
  {
   "cell_type": "code",
   "execution_count": 32,
   "metadata": {},
   "outputs": [],
   "source": []
  },
  {
   "cell_type": "code",
   "execution_count": 30,
   "metadata": {},
   "outputs": [
    {
     "name": "stdout",
     "output_type": "stream",
     "text": [
      "<zip object at 0x000001E4B871BC88>\n"
     ]
    }
   ],
   "source": []
  },
  {
   "cell_type": "code",
   "execution_count": null,
   "metadata": {},
   "outputs": [],
   "source": []
  },
  {
   "cell_type": "code",
   "execution_count": null,
   "metadata": {},
   "outputs": [],
   "source": []
  }
 ],
 "metadata": {
  "kernelspec": {
   "display_name": "Python 3",
   "language": "python",
   "name": "python3"
  },
  "language_info": {
   "codemirror_mode": {
    "name": "ipython",
    "version": 3
   },
   "file_extension": ".py",
   "mimetype": "text/x-python",
   "name": "python",
   "nbconvert_exporter": "python",
   "pygments_lexer": "ipython3",
   "version": "3.7.1"
  }
 },
 "nbformat": 4,
 "nbformat_minor": 2
}
